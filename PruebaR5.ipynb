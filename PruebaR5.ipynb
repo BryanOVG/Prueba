{
  "nbformat": 4,
  "nbformat_minor": 0,
  "metadata": {
    "colab": {
      "provenance": [],
      "authorship_tag": "ABX9TyMeUobAocHLbfNc6rp+851d",
      "include_colab_link": true
    },
    "kernelspec": {
      "name": "python3",
      "display_name": "Python 3"
    },
    "language_info": {
      "name": "python"
    }
  },
  "cells": [
    {
      "cell_type": "markdown",
      "metadata": {
        "id": "view-in-github",
        "colab_type": "text"
      },
      "source": [
        "<a href=\"https://colab.research.google.com/github/BryanOVG/Prueba/blob/main/PruebaR5.ipynb\" target=\"_parent\"><img src=\"https://colab.research.google.com/assets/colab-badge.svg\" alt=\"Open In Colab\"/></a>"
      ]
    },
    {
      "cell_type": "code",
      "source": [
        "### Primera parte:\n",
        "### Procesamiento de json a csv"
      ],
      "metadata": {
        "id": "EzHzpNzxgpHC"
      },
      "execution_count": null,
      "outputs": []
    },
    {
      "cell_type": "code",
      "source": [
        "import json\n",
        "import pandas as pd"
      ],
      "metadata": {
        "id": "xkZkAbLuhmqI"
      },
      "execution_count": 1,
      "outputs": []
    },
    {
      "cell_type": "code",
      "source": [
        "# Cargar el archivo JSON\n",
        "with open('/content/taylor_swift_spotify (1).json') as file:\n",
        "    data = json.load(file)"
      ],
      "metadata": {
        "id": "NvB0f5Z_hoZw"
      },
      "execution_count": 2,
      "outputs": []
    },
    {
      "cell_type": "code",
      "source": [
        "# Función para procesar el JSON y obtener los datos de las pistas\n",
        "def process_json_tracks(data):\n",
        "    tracks_data = []\n",
        "    for album in data.get('albums', []):\n",
        "        for track in album.get('tracks', []):\n",
        "            track_info = {\n",
        "                'disc_number': track.get('disc_number'),\n",
        "                'duration_ms': track.get('duration_ms'),\n",
        "                'explicit': track.get('explicit'),\n",
        "                'track_number': track.get('track_number'),\n",
        "                'track_popularity': track.get('track_popularity'),\n",
        "                'track_id': track.get('track_id'),\n",
        "                'track_name': track.get('track_name'),\n",
        "            }\n",
        "            audio_features = track.get('audio_features', {})\n",
        "            if audio_features:\n",
        "                track_info.update(audio_features)\n",
        "            artist_info = {\n",
        "                'artist_id': data.get('artist_id'),\n",
        "                'artist_name': data.get('artist_name'),\n",
        "                'artist_popularity': data.get('artist_popularity'),\n",
        "            }\n",
        "            album_info = {\n",
        "                'album_id': album.get('album_id'),\n",
        "                'album_name': album.get('album_name'),\n",
        "                'album_release_date': album.get('album_release_date'),\n",
        "                'album_total_tracks': album.get('album_total_tracks'),\n",
        "            }\n",
        "            track_info.update(artist_info)\n",
        "            track_info.update(album_info)\n",
        "            tracks_data.append(track_info)\n",
        "    return tracks_data"
      ],
      "metadata": {
        "id": "4SzIif5fhqoJ"
      },
      "execution_count": 3,
      "outputs": []
    },
    {
      "cell_type": "code",
      "source": [
        "# Procesar datos de las pistas\n",
        "tracks_data = process_json_tracks(data)\n",
        "\n",
        "# Convertir a DataFrame de Pandas\n",
        "df = pd.DataFrame(tracks_data)"
      ],
      "metadata": {
        "id": "O3iOOr01hu7A"
      },
      "execution_count": 4,
      "outputs": []
    },
    {
      "cell_type": "code",
      "source": [
        "# Reordenar las columnas según el formato deseado\n",
        "desired_columns_order = [\n",
        "    'disc_number', 'duration_ms', 'explicit', 'track_number', 'track_popularity', 'track_id', 'track_name',\n",
        "    'danceability', 'energy', 'key', 'loudness', 'mode', 'speechiness', 'acousticness', 'instrumentalness',\n",
        "    'liveness', 'valence', 'tempo', 'id', 'time_signature',\n",
        "    'artist_id', 'artist_name', 'artist_popularity',\n",
        "    'album_id', 'album_name', 'album_release_date', 'album_total_tracks'\n",
        "]\n",
        "\n",
        "df = df[desired_columns_order]"
      ],
      "metadata": {
        "id": "aNzzNgbShzTf"
      },
      "execution_count": 5,
      "outputs": []
    },
    {
      "cell_type": "code",
      "execution_count": 6,
      "metadata": {
        "id": "pFZm0b99HDKg"
      },
      "outputs": [],
      "source": [
        "# Guardar en un archivo CSV\n",
        "df.to_csv('dataset.csv', index=False)"
      ]
    },
    {
      "cell_type": "code",
      "source": [
        "## Fin Primera Parte."
      ],
      "metadata": {
        "id": "aGb0OeKPg2Ko"
      },
      "execution_count": null,
      "outputs": []
    },
    {
      "cell_type": "code",
      "source": [
        "## Segunda Parte:\n",
        "####### Análisis de Datos ###################################################"
      ],
      "metadata": {
        "id": "6XtZX4ZbgaQY"
      },
      "execution_count": null,
      "outputs": []
    },
    {
      "cell_type": "code",
      "source": [
        "# Cargar el dataset\n",
        "df = pd.read_csv('/content/dataset.csv')"
      ],
      "metadata": {
        "id": "lmJ3lKOdSKAt"
      },
      "execution_count": 7,
      "outputs": []
    },
    {
      "cell_type": "code",
      "source": [
        "# Visualizar los primeros registros\n",
        "print(df.head())"
      ],
      "metadata": {
        "id": "8fAATCu_SOyS"
      },
      "execution_count": null,
      "outputs": []
    },
    {
      "cell_type": "code",
      "source": [
        "# Obtener información general del dataset\n",
        "print(df.info())"
      ],
      "metadata": {
        "id": "SYSFjx_1SSXx"
      },
      "execution_count": null,
      "outputs": []
    },
    {
      "cell_type": "code",
      "source": [
        "# Estadísticas descriptivas\n",
        "print(df.describe())"
      ],
      "metadata": {
        "id": "d3H-E7IRSUke"
      },
      "execution_count": null,
      "outputs": []
    },
    {
      "cell_type": "code",
      "source": [
        "# Verificar valores nulos\n",
        "print(df.isnull().sum())"
      ],
      "metadata": {
        "id": "iA6vXg-PSW_E"
      },
      "execution_count": null,
      "outputs": []
    },
    {
      "cell_type": "code",
      "source": [
        "# Verificar duplicados\n",
        "print(df.duplicated().sum())"
      ],
      "metadata": {
        "id": "KHt2m25ySZ6z"
      },
      "execution_count": null,
      "outputs": []
    },
    {
      "cell_type": "code",
      "source": [
        "# Filtrar y mostrar solo una instancia de cada registro duplicado\n",
        "duplicates_unique = df[df.duplicated(keep=False)].drop_duplicates()\n",
        "print(\"Registros duplicados únicos:\")\n",
        "print(duplicates_unique)"
      ],
      "metadata": {
        "id": "2SKoB2NAUvvq"
      },
      "execution_count": null,
      "outputs": []
    },
    {
      "cell_type": "code",
      "source": [
        "# Verificar valores atípicos en la duración_ms\n",
        "# iterar demas variables\n",
        "import seaborn as sns\n",
        "import matplotlib.pyplot as plt\n",
        "\n",
        "sns.boxplot(x=df['duration_ms'])\n",
        "plt.show()"
      ],
      "metadata": {
        "id": "kOC6tUKgSdOR"
      },
      "execution_count": null,
      "outputs": []
    },
    {
      "cell_type": "code",
      "source": [
        "# Verificar valores únicos y conteo en una columna específica\n",
        "print(df['explicit'].value_counts())"
      ],
      "metadata": {
        "id": "QfvWGcYlSqxS"
      },
      "execution_count": null,
      "outputs": []
    },
    {
      "cell_type": "code",
      "source": [
        "# Obtener solo las columnas no numéricas\n",
        "non_numeric_columns = df.select_dtypes(exclude=['number']).columns\n",
        "\n",
        "# Iterar sobre las columnas no numéricas para identificar valores únicos anómalos\n",
        "for column in non_numeric_columns:\n",
        "    print(f\"Columna: {column}\")\n",
        "    unique_values = df[column].unique()\n",
        "    # Filtrar valores que no sean 'True' o 'False'\n",
        "    filtered_values = [value for value in unique_values if value not in ['True', 'False']]\n",
        "    if filtered_values:\n",
        "        print(f\"Valores anómalos en {column}: {filtered_values}\")\n",
        "    else:\n",
        "        print(\"No se encontraron valores anómalos.\")\n",
        "    print(\"---------------------\")\n",
        "# Excluir variables relacionadas con id"
      ],
      "metadata": {
        "id": "bIDnyOU2wnea"
      },
      "execution_count": null,
      "outputs": []
    },
    {
      "cell_type": "code",
      "source": [
        "# Obtener solo las columnas no numéricas\n",
        "non_numeric_columns = df.select_dtypes(exclude=['number']).columns\n",
        "\n",
        "# Mostrar conteos de valores únicos para las columnas no numéricas\n",
        "for column in non_numeric_columns:\n",
        "    print(f\"Columna: {column}\")\n",
        "    print(df[column].value_counts())\n",
        "    print(\"---------------------\")"
      ],
      "metadata": {
        "id": "U7WhII8YXoiq"
      },
      "execution_count": null,
      "outputs": []
    },
    {
      "cell_type": "code",
      "source": [
        "# Convertir 6 minutos a milisegundos (1 min = 60,000 ms)\n",
        "seis_minutos_en_ms = 6 * 60 * 1000\n",
        "\n",
        "# Filtrar el DataFrame para obtener las canciones con duración superior a 6 minutos en milisegundos\n",
        "canciones_mas_de_6_min = df[df['duration_ms'] > seis_minutos_en_ms]\n",
        "\n",
        "# Mostrar las canciones que cumplen con la condición\n",
        "print(\"Canciones con duración superior a 6 minutos:\")\n",
        "print(canciones_mas_de_6_min)"
      ],
      "metadata": {
        "id": "72HV4NAhdQWC"
      },
      "execution_count": null,
      "outputs": []
    },
    {
      "cell_type": "code",
      "source": [
        "# Convertir 3 minutos a milisegundos (1 min = 60,000 ms)\n",
        "tres_minutos_en_ms = 3 * 60 * 1000\n",
        "\n",
        "# Filtrar el DataFrame para obtener las canciones con duración superior a 6 minutos en milisegundos\n",
        "canciones_menos_de_3_min = df[df['duration_ms'] < tres_minutos_en_ms]\n",
        "\n",
        "# Mostrar las canciones que cumplen con la condición\n",
        "print(\"Canciones con duración menor a 3 minutos:\")\n",
        "print(canciones_menos_de_3_min)"
      ],
      "metadata": {
        "id": "MRRQH5t3nRV3"
      },
      "execution_count": null,
      "outputs": []
    },
    {
      "cell_type": "code",
      "source": [
        "# Filtrar el DataFrame para obtener las variables de 'acousticness' superiores a 1\n",
        "acousticness_mas_de_1 = df[df['acousticness'] > 1]\n",
        "\n",
        "# Mostrar las variables de 'acousticness' que son mayores a 1\n",
        "print(\"Variables de 'acousticness' superiores a 1:\")\n",
        "print(acousticness_mas_de_1)"
      ],
      "metadata": {
        "id": "DXRq9AK_3t_A"
      },
      "execution_count": null,
      "outputs": []
    },
    {
      "cell_type": "code",
      "source": [
        "# Seleccionar solo la columna 'acousticness'\n",
        "solo_acousticness = acousticness_mas_de_1['acousticness']\n",
        "\n",
        "# Mostrar solo la columna 'acousticness'\n",
        "print(\"Valores de 'acousticness':\")\n",
        "print(solo_acousticness)"
      ],
      "metadata": {
        "id": "pQR9Vkpg4IJ8"
      },
      "execution_count": null,
      "outputs": []
    },
    {
      "cell_type": "code",
      "source": [
        "# Filtrar los valores de 'track_popularity' que son menores a 0 o superiores a 100\n",
        "valores_filtrados = df[(df['track_popularity'] < 0) | (df['track_popularity'] > 100)]\n",
        "\n",
        "# Mostrar los valores de 'track_popularity' que cumplen con la condición\n",
        "print(\"Valores de 'track_popularity' menores a 0 o superiores a 100:\")\n",
        "print(valores_filtrados['track_popularity'])"
      ],
      "metadata": {
        "id": "VoZKtaq758dh"
      },
      "execution_count": null,
      "outputs": []
    },
    {
      "cell_type": "code",
      "source": [
        "# Obtener la frecuencia de cada valor en 'disc_number'\n",
        "frecuencia_disc_number = df['disc_number'].value_counts()\n",
        "\n",
        "# Mostrar la frecuencia de cada valor en 'disc_number'\n",
        "print(\"Frecuencia de valores en 'disc_number':\")\n",
        "print(frecuencia_disc_number)"
      ],
      "metadata": {
        "id": "ySvztL446-dA"
      },
      "execution_count": null,
      "outputs": []
    },
    {
      "cell_type": "code",
      "source": [
        "# Obtener la frecuencia de cada valor en 'artist_name'\n",
        "frecuencia_disc_number = df['artist_name'].value_counts()\n",
        "\n",
        "# Mostrar la frecuencia de cada valor en 'artist_name'\n",
        "print(\"Frecuencia de valores en 'artist_name':\")\n",
        "print(frecuencia_disc_number)"
      ],
      "metadata": {
        "id": "Tquro7OV8TfR"
      },
      "execution_count": null,
      "outputs": []
    },
    {
      "cell_type": "code",
      "source": [
        "# Obtener la frecuencia de cada valor en 'valence'\n",
        "frecuencia_disc_number = df['valence'].value_counts()\n",
        "\n",
        "# Mostrar la frecuencia de cada valor en 'valence'\n",
        "print(\"Frecuencia de valores en 'valence':\")\n",
        "print(frecuencia_disc_number)"
      ],
      "metadata": {
        "id": "624jTMTR8TpX"
      },
      "execution_count": null,
      "outputs": []
    },
    {
      "cell_type": "code",
      "source": [
        "# Filtrar los valores de 'valence' que son menores a 0 o superiores a 100\n",
        "valores_filtrados = df[(df['valence'] < 0) | (df['valence'] > 100)]\n",
        "\n",
        "# Mostrar los valores de 'valence' que cumplen con la condición\n",
        "print(\"Valores de 'valence' menores a 0 o superiores a 100:\")\n",
        "print(valores_filtrados['valence'])"
      ],
      "metadata": {
        "id": "ng4jgc-_82dp"
      },
      "execution_count": null,
      "outputs": []
    },
    {
      "cell_type": "code",
      "source": [
        "# Filtrar los valores de 'speechiness' que son menores a 0 o superiores a 100\n",
        "valores_filtrados = df[(df['speechiness'] < 0) | (df['speechiness'] > 100)]\n",
        "\n",
        "# Mostrar los valores de 'speechiness' que cumplen con la condición\n",
        "print(\"Valores de 'speechiness' menores a 0 o superiores a 100:\")\n",
        "print(valores_filtrados['speechiness'])"
      ],
      "metadata": {
        "id": "QvNtA1a69LZh"
      },
      "execution_count": null,
      "outputs": []
    },
    {
      "cell_type": "code",
      "source": [
        "# Filtrar los valores de 'artist_popularity' que son menores a 0 o superiores a 100\n",
        "valores_filtrados = df[(df['artist_popularity'] < 0) | (df['artist_popularity'] > 100)]\n",
        "\n",
        "# Mostrar los valores de 'artist_popularity' que cumplen con la condición\n",
        "print(\"Valores de 'artist_popularity' menores a 0 o superiores a 100:\")\n",
        "print(valores_filtrados['artist_popularity'])"
      ],
      "metadata": {
        "id": "y5MnqWnJ9Vz2"
      },
      "execution_count": null,
      "outputs": []
    },
    {
      "cell_type": "code",
      "source": [
        "# Obtener la frecuencia de cada valor en 'artist_popularity'\n",
        "frecuencia_artist_popularity = df['artist_popularity'].value_counts()\n",
        "\n",
        "# Mostrar la frecuencia de cada valor en 'artist_popularity'\n",
        "print(\"Frecuencia de valores en 'artist_popularity':\")\n",
        "print(frecuencia_artist_popularity)"
      ],
      "metadata": {
        "id": "2CFiW9To9WXQ"
      },
      "execution_count": null,
      "outputs": []
    },
    {
      "cell_type": "code",
      "source": [
        "# Obtener la frecuencia de cada valor en 'instrumentalness'\n",
        "frecuencia_instrumentalness = df['instrumentalness'].value_counts()\n",
        "\n",
        "# Mostrar la frecuencia de cada valor en 'instrumentalness'\n",
        "print(\"Frecuencia de valores en 'instrumentalness':\")\n",
        "print(frecuencia_instrumentalness)"
      ],
      "metadata": {
        "id": "HDTT5hu1dS_H"
      },
      "execution_count": null,
      "outputs": []
    },
    {
      "cell_type": "code",
      "source": [
        "# Obtener la frecuencia de cada fecha en 'album_release_date'\n",
        "frecuencia_fechas = df['album_release_date'].value_counts()\n",
        "\n",
        "# Mostrar la frecuencia de cada fecha en 'album_release_date'\n",
        "print(\"Frecuencia de fechas en 'album_release_date':\")\n",
        "print(frecuencia_fechas)"
      ],
      "metadata": {
        "id": "_fT2gWhieSHV"
      },
      "execution_count": null,
      "outputs": []
    }
  ]
}